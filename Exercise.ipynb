{
  "nbformat": 4,
  "nbformat_minor": 0,
  "metadata": {
    "colab": {
      "provenance": [],
      "mount_file_id": "1uIWUZet7JImljQzuznAT6tRVl9HN1Lnh",
      "authorship_tag": "ABX9TyO3koWHmi7H1bROy8hcVGqJ",
      "include_colab_link": true
    },
    "kernelspec": {
      "name": "python3",
      "display_name": "Python 3"
    },
    "language_info": {
      "name": "python"
    }
  },
  "cells": [
    {
      "cell_type": "markdown",
      "metadata": {
        "id": "view-in-github",
        "colab_type": "text"
      },
      "source": [
        "<a href=\"https://colab.research.google.com/github/shivnag5/BA888-Exercise/blob/main/Exercise.ipynb\" target=\"_parent\"><img src=\"https://colab.research.google.com/assets/colab-badge.svg\" alt=\"Open In Colab\"/></a>"
      ]
    },
    {
      "cell_type": "markdown",
      "source": [
        "- Identify states with the highest inbound migration in terms of both absolute numbers and relative to their population.\n",
        "\n",
        "- Determine states with the highest outbound migration, again in terms of absolute numbers and relative to their population.\n",
        "\n",
        "- Visualize the net flux of migrants per state on a map.\n",
        "\n",
        "- Identify the pair of states with the highest share in the overall migration trend.\n",
        "\n",
        "- Represent interstate migration clearly using a graph.\n",
        "\n",
        "**I used ai for some of the analysis, i can't be bothered rn**"
      ],
      "metadata": {
        "id": "GskucqnNhP-r"
      }
    },
    {
      "cell_type": "code",
      "execution_count": 4,
      "metadata": {
        "id": "5tjacznBg39E"
      },
      "outputs": [],
      "source": [
        "import pandas as pd\n",
        "\n",
        "file_path = \"/State_to_State_Migration_Table_2023_T13.xlsx\"\n",
        "xls = pd.ExcelFile(file_path)"
      ]
    },
    {
      "cell_type": "code",
      "source": [
        "# Cleaning\n",
        "df_clean = pd.read_excel(xls, sheet_name=\"Table\", skiprows=5)\n",
        "\n",
        "df_clean.rename(columns={df_clean.columns[0]: \"Current_Residence\"}, inplace=True)\n",
        "\n",
        "df_clean.dropna(subset=[\"Current_Residence\"], inplace=True)"
      ],
      "metadata": {
        "id": "A_DpGJiKh81v"
      },
      "execution_count": 7,
      "outputs": []
    },
    {
      "cell_type": "code",
      "source": [
        "df_states = df_clean[[\n",
        "    \"Current_Residence\",\n",
        "    \"Unnamed: 1\",  # Total population\n",
        "    \"Different state of residence 1 year ago\"  # Inbound migration\n",
        "]]"
      ],
      "metadata": {
        "id": "3OFro2TwiYVE"
      },
      "execution_count": 8,
      "outputs": []
    },
    {
      "cell_type": "code",
      "source": [
        "df_states.columns = [\"State\", \"Population\", \"Inbound_Migration\"]"
      ],
      "metadata": {
        "id": "Qi9oeUJ6ibpi"
      },
      "execution_count": 9,
      "outputs": []
    },
    {
      "cell_type": "code",
      "source": [
        "df_states = df_states[~df_states[\"State\"].str.contains(\"United States|Puerto Rico|Island\", na=False)]\n",
        "df_states[\"Population\"] = pd.to_numeric(df_states[\"Population\"], errors='coerce')\n",
        "df_states[\"Inbound_Migration\"] = pd.to_numeric(df_states[\"Inbound_Migration\"], errors='coerce')\n",
        "\n",
        "# Extract outbound migration from state-to-state matrix\n",
        "from_cols = df_clean.columns[9:59]\n",
        "to_states = df_clean[\"Current_Residence\"].iloc[5:55].tolist()\n",
        "\n",
        "# Filter outbound matrix data\n",
        "outbound_data = df_clean.loc[df_clean[\"Current_Residence\"].isin(to_states), [\"Current_Residence\"] + list(from_cols)]\n",
        "outbound_data.columns = [\"State\"] + to_states\n",
        "\n",
        "# Sum across rows to get total outbound migration\n",
        "outbound_data[\"Outbound_Migration\"] = outbound_data[to_states].apply(pd.to_numeric, errors='coerce').sum(axis=1)\n",
        "\n",
        "# Merge inbound and outbound migration data\n",
        "df_states = df_states.merge(outbound_data[[\"State\", \"Outbound_Migration\"]], on=\"State\")\n",
        "\n",
        "# Calculate relative values and net migration\n",
        "df_states[\"Inbound_per_1000\"] = df_states[\"Inbound_Migration\"] / df_states[\"Population\"] * 1000\n",
        "df_states[\"Outbound_per_1000\"] = df_states[\"Outbound_Migration\"] / df_states[\"Population\"] * 1000\n",
        "df_states[\"Net_Migration\"] = df_states[\"Inbound_Migration\"] - df_states[\"Outbound_Migration\"]"
      ],
      "metadata": {
        "id": "XsY--Ewiieie"
      },
      "execution_count": 12,
      "outputs": []
    },
    {
      "cell_type": "code",
      "source": [
        "print(df_states.sort_values(by=\"Inbound_Migration\", ascending=False).head(5))\n",
        "print(df_states.sort_values(by=\"Outbound_Migration\", ascending=False).head(5))\n",
        "print(df_states.sort_values(by=\"Net_Migration\", ascending=False).head(5))"
      ],
      "metadata": {
        "colab": {
          "base_uri": "https://localhost:8080/"
        },
        "id": "LBGCz5csioQ2",
        "outputId": "69a53000-de1d-454a-cc36-6f99f8f8874c"
      },
      "execution_count": 15,
      "outputs": [
        {
          "output_type": "stream",
          "name": "stdout",
          "text": [
            "             State  Population  Inbound_Migration  Outbound_Migration_x  \\\n",
            "5          Florida  22395466.0           636933.0              372514.0   \n",
            "38           Texas  30134547.0           611942.0              459211.0   \n",
            "0       California  38552167.0           422075.0              218985.0   \n",
            "29  North Carolina  10719307.0           339255.0              219329.0   \n",
            "6          Georgia  10909651.0           310452.0              204327.0   \n",
            "\n",
            "    Inbound_per_1000  Outbound_per_1000  Net_Migration  Outbound_Migration_y  \\\n",
            "5          28.440266          16.633456       264419.0              372514.0   \n",
            "38         20.306992          15.238689       152731.0              459211.0   \n",
            "0          10.948152           5.680225       203090.0              218985.0   \n",
            "29         31.648968          20.461117       119926.0              219329.0   \n",
            "6          28.456639          18.729013       106125.0              204327.0   \n",
            "\n",
            "    Outbound_Migration  \n",
            "5             372514.0  \n",
            "38            459211.0  \n",
            "0             218985.0  \n",
            "29            219329.0  \n",
            "6             204327.0  \n",
            "             State  Population  Inbound_Migration  Outbound_Migration_x  \\\n",
            "38           Texas  30134547.0           611942.0              459211.0   \n",
            "5          Florida  22395466.0           636933.0              372514.0   \n",
            "29  North Carolina  10719307.0           339255.0              219329.0   \n",
            "0       California  38552167.0           422075.0              218985.0   \n",
            "6          Georgia  10909651.0           310452.0              204327.0   \n",
            "\n",
            "    Inbound_per_1000  Outbound_per_1000  Net_Migration  Outbound_Migration_y  \\\n",
            "38         20.306992          15.238689       152731.0              459211.0   \n",
            "5          28.440266          16.633456       264419.0              372514.0   \n",
            "29         31.648968          20.461117       119926.0              219329.0   \n",
            "0          10.948152           5.680225       203090.0              218985.0   \n",
            "6          28.456639          18.729013       106125.0              204327.0   \n",
            "\n",
            "    Outbound_Migration  \n",
            "38            459211.0  \n",
            "5             372514.0  \n",
            "29            219329.0  \n",
            "0             218985.0  \n",
            "6             204327.0  \n",
            "             State  Population  Inbound_Migration  Outbound_Migration_x  \\\n",
            "5          Florida  22395466.0           636933.0              372514.0   \n",
            "0       California  38552167.0           422075.0              218985.0   \n",
            "38           Texas  30134547.0           611942.0              459211.0   \n",
            "29  North Carolina  10719307.0           339255.0              219329.0   \n",
            "28        New York  19365855.0           302835.0              189670.0   \n",
            "\n",
            "    Inbound_per_1000  Outbound_per_1000  Net_Migration  Outbound_Migration_y  \\\n",
            "5          28.440266          16.633456       264419.0              372514.0   \n",
            "0          10.948152           5.680225       203090.0              218985.0   \n",
            "38         20.306992          15.238689       152731.0              459211.0   \n",
            "29         31.648968          20.461117       119926.0              219329.0   \n",
            "28         15.637574           9.794042       113165.0              189670.0   \n",
            "\n",
            "    Outbound_Migration  \n",
            "5             372514.0  \n",
            "0             218985.0  \n",
            "38            459211.0  \n",
            "29            219329.0  \n",
            "28            189670.0  \n"
          ]
        }
      ]
    }
  ]
}